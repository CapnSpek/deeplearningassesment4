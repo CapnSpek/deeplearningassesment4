{
  "nbformat": 4,
  "nbformat_minor": 0,
  "metadata": {
    "anaconda-cloud": {},
    "kernelspec": {
      "display_name": "Python 3",
      "language": "python",
      "name": "python3"
    },
    "language_info": {
      "codemirror_mode": {
        "name": "ipython",
        "version": 3
      },
      "file_extension": ".py",
      "mimetype": "text/x-python",
      "name": "python",
      "nbconvert_exporter": "python",
      "pygments_lexer": "ipython3",
      "version": "3.6.6"
    },
    "colab": {
      "provenance": []
    },
    "accelerator": "GPU"
  },
  "cells": [
    {
      "cell_type": "markdown",
      "metadata": {
        "id": "cW-EyI5Lxpqi"
      },
      "source": [
        "# Copyright\n",
        "\n",
        "<PRE>\n",
        "Copyright (c) 2024 Bálint Gyires-Tóth - All Rights Reserved\n",
        "You may use and modify this code for research and development purpuses.\n",
        "Using this code for educational purposes (self-paced or instructor led) without the permission of the author is prohibited.\n",
        "</PRE>"
      ]
    },
    {
      "cell_type": "markdown",
      "source": [
        "# Convolutional Neural Network exercise\n",
        "\n",
        "In this notebook, you will build a convolutional neural network, which offers superior results over the previous MLP solution. Additionally, you will perform a more detailed evaluation."
      ],
      "metadata": {
        "id": "3EX4cCa4WKJu"
      }
    },
    {
      "cell_type": "code",
      "source": [
        "# imports\n",
        "from tensorflow.keras.datasets import cifar10\n",
        "from tensorflow.keras.utils import to_categorical\n",
        "import numpy as np\n",
        "import matplotlib.pyplot as plt\n",
        "from tensorflow.keras.models import Sequential\n",
        "from tensorflow.keras.layers import Dense, Conv2D, MaxPool2D, Flatten, Dropout, BatchNormalization\n",
        "from tensorflow.keras.initializers import HeNormal\n",
        "from tensorflow.keras.callbacks import EarlyStopping"
      ],
      "metadata": {
        "id": "GdCMhy4HA2qd"
      },
      "execution_count": 9,
      "outputs": []
    },
    {
      "cell_type": "markdown",
      "source": [
        "# 1. Data\n",
        "The dataset we will use is the well-known CIFAR10 (Canadian Institute For Advanced Research). Explore the details on the Keras website first: https://keras.io/api/datasets/cifar10/\n",
        "\n",
        "There isn't much difference between the data preprocessing part and the one we did before. The only difference is that we don't have to reshape images into vectors, but we are working with a 4 dimensional data structure, where the dimensions are: batch, X, Y, and color channels.\n",
        "\n",
        "In the event that anything is not clear regarding the data preparation part, please check the previous CIFAR10 notebook."
      ],
      "metadata": {
        "id": "yY9fztIeWIKt"
      }
    },
    {
      "cell_type": "code",
      "source": [
        "(X_train, Y_train), (X_test, Y_test) = cifar10.load_data()"
      ],
      "metadata": {
        "id": "bez7q0eiWQCK"
      },
      "execution_count": 10,
      "outputs": []
    },
    {
      "cell_type": "code",
      "source": [
        "# it is in int8 format, the neural network requires float32\n",
        "X_train = X_train.astype(\"float32\")\n",
        "X_test = X_test.astype(\"float32\")"
      ],
      "metadata": {
        "id": "vukOcBM0XzSj"
      },
      "execution_count": 11,
      "outputs": []
    },
    {
      "cell_type": "code",
      "source": [
        "train_ratio  = 0.8\n",
        "train_length = X_train.shape[0]\n",
        "train_split  = int(train_ratio*train_length)\n",
        "X_valid, Y_valid = X_train[train_split:], Y_train[train_split:]\n",
        "X_train, Y_train = X_train[:train_split], Y_train[:train_split]"
      ],
      "metadata": {
        "id": "mRwuWxxIxLgN"
      },
      "execution_count": 12,
      "outputs": []
    },
    {
      "cell_type": "code",
      "source": [
        "mean = X_train.mean(axis=0)\n",
        "std  = X_train.std(axis=0)\n",
        "\n",
        "X_train = (X_train-mean)/std\n",
        "X_valid = (X_valid-mean)/std\n",
        "X_test  = (X_test-mean)/std"
      ],
      "metadata": {
        "id": "2ESLP1EIyB2J"
      },
      "execution_count": 13,
      "outputs": []
    },
    {
      "cell_type": "code",
      "source": [
        "nb_classes = len(np.unique(Y_train))\n",
        "Y_train = to_categorical(Y_train, nb_classes)\n",
        "Y_valid = to_categorical(Y_valid, nb_classes)\n",
        "Y_test  = to_categorical(Y_test, nb_classes)"
      ],
      "metadata": {
        "id": "xwZ4OJ6I8lba"
      },
      "execution_count": 14,
      "outputs": []
    },
    {
      "cell_type": "code",
      "source": [
        "print(\"Shapes of the training, validation and test input data:\", X_train.shape, X_valid.shape, X_test.shape)\n",
        "print(\"Shapes of the training, validation and test output data:\", Y_train.shape, Y_valid.shape, Y_test.shape)\n",
        "print(\"Mean values of the training, validation and test input data:\", X_train.mean(), X_valid.mean(), X_test.mean())\n",
        "print(\"Standard deviation of the training, validation and test input data:\", X_train.std(), X_valid.std(), X_test.std())"
      ],
      "metadata": {
        "id": "O_jdJVcvX0vi",
        "colab": {
          "base_uri": "https://localhost:8080/"
        },
        "outputId": "1e2c1cbb-bbf7-4aca-cd40-c51d72f37259"
      },
      "execution_count": 15,
      "outputs": [
        {
          "output_type": "stream",
          "name": "stdout",
          "text": [
            "Shapes of the training, validation and test input data: (40000, 32, 32, 3) (10000, 32, 32, 3) (10000, 32, 32, 3)\n",
            "Shapes of the training, validation and test output data: (40000, 10) (10000, 10) (10000, 10)\n",
            "Mean values of the training, validation and test input data: 2.2788842e-09 0.0023437198 0.013331206\n",
            "Standard deviation of the training, validation and test input data: 1.0000023 0.9965626 0.99783075\n"
          ]
        }
      ]
    },
    {
      "cell_type": "markdown",
      "metadata": {
        "id": "cJ14oyZExpqj"
      },
      "source": [
        "# 2. Exercise: training"
      ]
    },
    {
      "cell_type": "markdown",
      "source": [
        "Create and train a convolutional neural network with the following requirements:\n",
        "* apply early stopping with patience=5 and monitor the validation accuracy, don't forget to load back the best weights after early stopping\n",
        "* the number of trainable parameters is lower than 200.000\n",
        "* the validation accuracy must be higher than 72%\n",
        "\n",
        "Hints:\n",
        "* you can always inspect the number of trainable parameters per layer with model.summary()\n",
        "* usually the most trainable parameters are between the last convolutional layer and the next dense layer -- so you should have a reasonable output size at the last convolutional layer\n",
        "* regularization helps (e.g. DropOut and/or BatchNormalization)\n",
        "* use the right activation function at the output layer and the corresponding loss function\n",
        "* for the chosen activation functions, please use the appropriate initialization method\n",
        "* you can match the dimension of the last conv/pooling layer to the next dense layer with e.g. Flatten()\n",
        "* ADAM optimizer is a reasonable choice\n",
        "* don't forget to turn on GPU support in Colab, otherwise, it would be quite slow to train the networks\n",
        "\n"
      ],
      "metadata": {
        "id": "j1tGVPdD-pp3"
      }
    },
    {
      "cell_type": "code",
      "source": [
        "import keras\n",
        "es = EarlyStopping(monitor='val_accuracy', patience=5, restore_best_weights=True)\n",
        "# early stopping"
      ],
      "metadata": {
        "id": "5dBQxJHIHrbd"
      },
      "execution_count": 17,
      "outputs": []
    },
    {
      "cell_type": "code",
      "source": [
        "# model definition\n",
        "from tensorflow.keras.layers import Conv2D, MaxPooling2D, Flatten, Dense, Dropout\n",
        "\n",
        "model = Sequential()\n",
        "\n",
        "model.add(Conv2D(32, kernel_size=(3, 3), activation='relu', input_shape=(32, 32, 3)))\n",
        "model.add(MaxPooling2D(pool_size=(2, 2)))\n",
        "model.add(Dropout(0.3))\n",
        "model.add(Conv2D(64, kernel_size=(3, 3), activation='relu'))\n",
        "model.add(MaxPooling2D(pool_size=(2, 2)))\n",
        "model.add(Dropout(0.3))\n",
        "model.add(Conv2D(64, kernel_size=(3, 3), activation='relu'))\n",
        "model.add(MaxPooling2D(pool_size=(2, 2)))\n",
        "model.add(Dropout(0.3))\n",
        "\n",
        "# Flatten layer\n",
        "model.add(Flatten())\n",
        "\n",
        "# Dense layers with Dropout regularization\n",
        "model.add(Dense(64, activation='relu'))\n",
        "model.add(Dropout(0.5))\n",
        "\n",
        "# Output layer\n",
        "model.add(Dense(10, activation='softmax'))\n",
        "\n",
        "# loss function and optimizer\n",
        "model.compile(loss='categorical_crossentropy', optimizer='adam', metrics=['accuracy'])"
      ],
      "metadata": {
        "id": "PuxHOqLt-3Nd"
      },
      "execution_count": 70,
      "outputs": []
    },
    {
      "cell_type": "code",
      "source": [
        "model.summary()"
      ],
      "metadata": {
        "id": "5eomQw8uE9Ix",
        "colab": {
          "base_uri": "https://localhost:8080/"
        },
        "outputId": "4a7bd53b-431e-4486-a95f-210bf66451da"
      },
      "execution_count": 71,
      "outputs": [
        {
          "output_type": "stream",
          "name": "stdout",
          "text": [
            "Model: \"sequential_17\"\n",
            "_________________________________________________________________\n",
            " Layer (type)                Output Shape              Param #   \n",
            "=================================================================\n",
            " conv2d_17 (Conv2D)          (None, 30, 30, 32)        896       \n",
            "                                                                 \n",
            " max_pooling2d_14 (MaxPooli  (None, 15, 15, 32)        0         \n",
            " ng2D)                                                           \n",
            "                                                                 \n",
            " dropout_17 (Dropout)        (None, 15, 15, 32)        0         \n",
            "                                                                 \n",
            " conv2d_18 (Conv2D)          (None, 13, 13, 64)        18496     \n",
            "                                                                 \n",
            " max_pooling2d_15 (MaxPooli  (None, 6, 6, 64)          0         \n",
            " ng2D)                                                           \n",
            "                                                                 \n",
            " dropout_18 (Dropout)        (None, 6, 6, 64)          0         \n",
            "                                                                 \n",
            " conv2d_19 (Conv2D)          (None, 4, 4, 64)          36928     \n",
            "                                                                 \n",
            " max_pooling2d_16 (MaxPooli  (None, 2, 2, 64)          0         \n",
            " ng2D)                                                           \n",
            "                                                                 \n",
            " dropout_19 (Dropout)        (None, 2, 2, 64)          0         \n",
            "                                                                 \n",
            " flatten_14 (Flatten)        (None, 256)               0         \n",
            "                                                                 \n",
            " dense_32 (Dense)            (None, 64)                16448     \n",
            "                                                                 \n",
            " dropout_20 (Dropout)        (None, 64)                0         \n",
            "                                                                 \n",
            " dense_33 (Dense)            (None, 10)                650       \n",
            "                                                                 \n",
            "=================================================================\n",
            "Total params: 73418 (286.79 KB)\n",
            "Trainable params: 73418 (286.79 KB)\n",
            "Non-trainable params: 0 (0.00 Byte)\n",
            "_________________________________________________________________\n"
          ]
        }
      ]
    },
    {
      "cell_type": "markdown",
      "source": [
        "Please, check the number of trainable paramers:"
      ],
      "metadata": {
        "id": "8tIbIIeTEI41"
      }
    },
    {
      "cell_type": "code",
      "source": [
        "print(\"#trainable parameters:\",model.count_params())"
      ],
      "metadata": {
        "id": "xdBAG7EJETlX",
        "colab": {
          "base_uri": "https://localhost:8080/"
        },
        "outputId": "542df3a2-693d-43eb-cb16-4ccb5f3bb8c1"
      },
      "execution_count": 72,
      "outputs": [
        {
          "output_type": "stream",
          "name": "stdout",
          "text": [
            "#trainable parameters: 73418\n"
          ]
        }
      ]
    },
    {
      "cell_type": "code",
      "source": [
        "# training\n",
        "network_history = model.fit( X_train, Y_train, validation_data=(X_valid,Y_valid),\n",
        "                                epochs=100, callbacks=[es])"
      ],
      "metadata": {
        "id": "u8tFNCNVHyt9",
        "colab": {
          "base_uri": "https://localhost:8080/"
        },
        "outputId": "09d87235-27ca-4ca9-a4c3-3f37f523bdab"
      },
      "execution_count": 73,
      "outputs": [
        {
          "output_type": "stream",
          "name": "stdout",
          "text": [
            "Epoch 1/100\n",
            "1250/1250 [==============================] - 8s 5ms/step - loss: 1.8416 - accuracy: 0.3090 - val_loss: 1.4823 - val_accuracy: 0.4697\n",
            "Epoch 2/100\n",
            "1250/1250 [==============================] - 7s 6ms/step - loss: 1.5023 - accuracy: 0.4535 - val_loss: 1.3031 - val_accuracy: 0.5271\n",
            "Epoch 3/100\n",
            "1250/1250 [==============================] - 7s 5ms/step - loss: 1.3907 - accuracy: 0.5031 - val_loss: 1.1783 - val_accuracy: 0.5915\n",
            "Epoch 4/100\n",
            "1250/1250 [==============================] - 6s 5ms/step - loss: 1.3149 - accuracy: 0.5315 - val_loss: 1.1458 - val_accuracy: 0.6016\n",
            "Epoch 5/100\n",
            "1250/1250 [==============================] - 7s 6ms/step - loss: 1.2618 - accuracy: 0.5534 - val_loss: 1.0804 - val_accuracy: 0.6238\n",
            "Epoch 6/100\n",
            "1250/1250 [==============================] - 6s 5ms/step - loss: 1.2150 - accuracy: 0.5739 - val_loss: 1.0077 - val_accuracy: 0.6463\n",
            "Epoch 7/100\n",
            "1250/1250 [==============================] - 7s 6ms/step - loss: 1.1854 - accuracy: 0.5852 - val_loss: 0.9830 - val_accuracy: 0.6560\n",
            "Epoch 8/100\n",
            "1250/1250 [==============================] - 7s 5ms/step - loss: 1.1640 - accuracy: 0.5896 - val_loss: 0.9787 - val_accuracy: 0.6608\n",
            "Epoch 9/100\n",
            "1250/1250 [==============================] - 7s 6ms/step - loss: 1.1378 - accuracy: 0.6006 - val_loss: 0.9971 - val_accuracy: 0.6478\n",
            "Epoch 10/100\n",
            "1250/1250 [==============================] - 8s 7ms/step - loss: 1.1206 - accuracy: 0.6067 - val_loss: 0.9361 - val_accuracy: 0.6774\n",
            "Epoch 11/100\n",
            "1250/1250 [==============================] - 6s 5ms/step - loss: 1.1056 - accuracy: 0.6178 - val_loss: 0.9201 - val_accuracy: 0.6794\n",
            "Epoch 12/100\n",
            "1250/1250 [==============================] - 7s 5ms/step - loss: 1.1005 - accuracy: 0.6176 - val_loss: 0.8900 - val_accuracy: 0.6865\n",
            "Epoch 13/100\n",
            "1250/1250 [==============================] - 6s 5ms/step - loss: 1.0862 - accuracy: 0.6219 - val_loss: 0.9044 - val_accuracy: 0.6862\n",
            "Epoch 14/100\n",
            "1250/1250 [==============================] - 8s 6ms/step - loss: 1.0744 - accuracy: 0.6277 - val_loss: 0.8691 - val_accuracy: 0.7005\n",
            "Epoch 15/100\n",
            "1250/1250 [==============================] - 7s 5ms/step - loss: 1.0615 - accuracy: 0.6311 - val_loss: 0.8627 - val_accuracy: 0.6986\n",
            "Epoch 16/100\n",
            "1250/1250 [==============================] - 8s 6ms/step - loss: 1.0529 - accuracy: 0.6361 - val_loss: 0.8807 - val_accuracy: 0.6957\n",
            "Epoch 17/100\n",
            "1250/1250 [==============================] - 7s 6ms/step - loss: 1.0486 - accuracy: 0.6370 - val_loss: 0.8500 - val_accuracy: 0.7077\n",
            "Epoch 18/100\n",
            "1250/1250 [==============================] - 6s 5ms/step - loss: 1.0280 - accuracy: 0.6449 - val_loss: 0.8487 - val_accuracy: 0.7109\n",
            "Epoch 19/100\n",
            "1250/1250 [==============================] - 7s 6ms/step - loss: 1.0280 - accuracy: 0.6457 - val_loss: 0.8426 - val_accuracy: 0.7052\n",
            "Epoch 20/100\n",
            "1250/1250 [==============================] - 7s 5ms/step - loss: 1.0157 - accuracy: 0.6501 - val_loss: 0.8344 - val_accuracy: 0.7127\n",
            "Epoch 21/100\n",
            "1250/1250 [==============================] - 7s 5ms/step - loss: 1.0127 - accuracy: 0.6512 - val_loss: 0.8480 - val_accuracy: 0.7081\n",
            "Epoch 22/100\n",
            "1250/1250 [==============================] - 6s 5ms/step - loss: 1.0041 - accuracy: 0.6514 - val_loss: 0.8459 - val_accuracy: 0.7139\n",
            "Epoch 23/100\n",
            "1250/1250 [==============================] - 8s 6ms/step - loss: 1.0000 - accuracy: 0.6543 - val_loss: 0.8120 - val_accuracy: 0.7218\n",
            "Epoch 24/100\n",
            "1250/1250 [==============================] - 7s 5ms/step - loss: 0.9976 - accuracy: 0.6555 - val_loss: 0.8167 - val_accuracy: 0.7143\n",
            "Epoch 25/100\n",
            "1250/1250 [==============================] - 6s 5ms/step - loss: 0.9877 - accuracy: 0.6615 - val_loss: 0.8113 - val_accuracy: 0.7185\n",
            "Epoch 26/100\n",
            "1250/1250 [==============================] - 7s 6ms/step - loss: 0.9827 - accuracy: 0.6603 - val_loss: 0.7869 - val_accuracy: 0.7307\n",
            "Epoch 27/100\n",
            "1250/1250 [==============================] - 6s 5ms/step - loss: 0.9886 - accuracy: 0.6619 - val_loss: 0.8268 - val_accuracy: 0.7155\n",
            "Epoch 28/100\n",
            "1250/1250 [==============================] - 7s 6ms/step - loss: 0.9743 - accuracy: 0.6677 - val_loss: 0.7914 - val_accuracy: 0.7306\n",
            "Epoch 29/100\n",
            "1250/1250 [==============================] - 6s 5ms/step - loss: 0.9696 - accuracy: 0.6678 - val_loss: 0.7818 - val_accuracy: 0.7339\n",
            "Epoch 30/100\n",
            "1250/1250 [==============================] - 7s 6ms/step - loss: 0.9749 - accuracy: 0.6679 - val_loss: 0.8153 - val_accuracy: 0.7213\n",
            "Epoch 31/100\n",
            "1250/1250 [==============================] - 6s 5ms/step - loss: 0.9619 - accuracy: 0.6722 - val_loss: 0.7888 - val_accuracy: 0.7300\n",
            "Epoch 32/100\n",
            "1250/1250 [==============================] - 8s 6ms/step - loss: 0.9630 - accuracy: 0.6701 - val_loss: 0.7855 - val_accuracy: 0.7310\n",
            "Epoch 33/100\n",
            "1250/1250 [==============================] - 7s 6ms/step - loss: 0.9531 - accuracy: 0.6729 - val_loss: 0.8067 - val_accuracy: 0.7245\n",
            "Epoch 34/100\n",
            "1250/1250 [==============================] - 7s 5ms/step - loss: 0.9511 - accuracy: 0.6766 - val_loss: 0.7565 - val_accuracy: 0.7439\n",
            "Epoch 35/100\n",
            "1250/1250 [==============================] - 7s 6ms/step - loss: 0.9560 - accuracy: 0.6741 - val_loss: 0.7726 - val_accuracy: 0.7353\n",
            "Epoch 36/100\n",
            "1250/1250 [==============================] - 6s 5ms/step - loss: 0.9475 - accuracy: 0.6770 - val_loss: 0.7538 - val_accuracy: 0.7399\n",
            "Epoch 37/100\n",
            "1250/1250 [==============================] - 7s 6ms/step - loss: 0.9540 - accuracy: 0.6747 - val_loss: 0.7798 - val_accuracy: 0.7332\n",
            "Epoch 38/100\n",
            "1250/1250 [==============================] - 7s 5ms/step - loss: 0.9437 - accuracy: 0.6776 - val_loss: 0.7586 - val_accuracy: 0.7425\n",
            "Epoch 39/100\n",
            "1250/1250 [==============================] - 7s 6ms/step - loss: 0.9397 - accuracy: 0.6793 - val_loss: 0.7500 - val_accuracy: 0.7455\n",
            "Epoch 40/100\n",
            "1250/1250 [==============================] - 7s 6ms/step - loss: 0.9430 - accuracy: 0.6790 - val_loss: 0.7667 - val_accuracy: 0.7381\n",
            "Epoch 41/100\n",
            "1250/1250 [==============================] - 6s 5ms/step - loss: 0.9469 - accuracy: 0.6735 - val_loss: 0.7652 - val_accuracy: 0.7415\n",
            "Epoch 42/100\n",
            "1250/1250 [==============================] - 7s 6ms/step - loss: 0.9372 - accuracy: 0.6808 - val_loss: 0.7549 - val_accuracy: 0.7417\n",
            "Epoch 43/100\n",
            "1250/1250 [==============================] - 6s 5ms/step - loss: 0.9309 - accuracy: 0.6835 - val_loss: 0.7595 - val_accuracy: 0.7491\n",
            "Epoch 44/100\n",
            "1250/1250 [==============================] - 7s 6ms/step - loss: 0.9368 - accuracy: 0.6811 - val_loss: 0.7546 - val_accuracy: 0.7454\n",
            "Epoch 45/100\n",
            "1250/1250 [==============================] - 6s 5ms/step - loss: 0.9290 - accuracy: 0.6840 - val_loss: 0.7410 - val_accuracy: 0.7515\n",
            "Epoch 46/100\n",
            "1250/1250 [==============================] - 7s 6ms/step - loss: 0.9202 - accuracy: 0.6878 - val_loss: 0.7359 - val_accuracy: 0.7552\n",
            "Epoch 47/100\n",
            "1250/1250 [==============================] - 7s 5ms/step - loss: 0.9354 - accuracy: 0.6790 - val_loss: 0.7455 - val_accuracy: 0.7528\n",
            "Epoch 48/100\n",
            "1250/1250 [==============================] - 6s 5ms/step - loss: 0.9233 - accuracy: 0.6853 - val_loss: 0.7354 - val_accuracy: 0.7529\n",
            "Epoch 49/100\n",
            "1250/1250 [==============================] - 7s 6ms/step - loss: 0.9206 - accuracy: 0.6854 - val_loss: 0.7768 - val_accuracy: 0.7411\n",
            "Epoch 50/100\n",
            "1250/1250 [==============================] - 6s 5ms/step - loss: 0.9227 - accuracy: 0.6830 - val_loss: 0.7380 - val_accuracy: 0.7494\n",
            "Epoch 51/100\n",
            "1250/1250 [==============================] - 7s 5ms/step - loss: 0.9205 - accuracy: 0.6888 - val_loss: 0.7487 - val_accuracy: 0.7501\n"
          ]
        }
      ]
    },
    {
      "cell_type": "markdown",
      "source": [
        "# 3. Exercise: evaluation on test data\n",
        "You will evaluate the classification of the test data using the common metrics and the confusion matrix in this section.\n",
        "\n",
        "\n",
        "As a first stes, let's run the predictions and convert the predicted softmax outputs to dense labels. The one-hot encoded labels are also converted back to dense labels, as they are required for the evaluation functions."
      ],
      "metadata": {
        "id": "2FtKp-a2-A9m"
      }
    },
    {
      "cell_type": "code",
      "source": [
        "probas = model.predict(X_test)\n",
        "preds  = np.argmax(probas,axis=1)\n",
        "Y_test_dense = np.argmax(Y_test, axis=1) # get the original dense labels of the test data"
      ],
      "metadata": {
        "id": "EcWAqwlDMq3y",
        "colab": {
          "base_uri": "https://localhost:8080/"
        },
        "outputId": "759cc1e0-1e8c-400b-bc40-38b34cfcadab"
      },
      "execution_count": 74,
      "outputs": [
        {
          "output_type": "stream",
          "name": "stdout",
          "text": [
            "313/313 [==============================] - 1s 3ms/step\n"
          ]
        }
      ]
    },
    {
      "cell_type": "markdown",
      "source": [
        "## 3.1. Exercise: Metrics\n",
        "please review the common classification metrics (accuracy, precision, recall, F1) for the complete model (not per class).\n",
        "\n",
        "Hints:\n",
        "* use macro averaging\n",
        "* you have to import the right functions from [sklearn.metrics](https://scikit-learn.org/stable/modules/model_evaluation.html)\n"
      ],
      "metadata": {
        "id": "RWJ-PH_iMs9K"
      }
    },
    {
      "cell_type": "code",
      "source": [
        "from sklearn.metrics import accuracy_score, precision_score, recall_score, f1_score"
      ],
      "metadata": {
        "id": "5sKm5zHSMZ_x"
      },
      "execution_count": 75,
      "outputs": []
    },
    {
      "cell_type": "code",
      "source": [
        "print(\"Accuracy:\", accuracy_score(Y_test_dense, preds))\n",
        "print(\"Precision:\", precision_score(Y_test_dense, preds, average='macro'))\n",
        "print(\"Recall:\", recall_score(Y_test_dense, preds, average='macro'))\n",
        "print(\"F1:\", f1_score(Y_test_dense, preds, average='macro'))"
      ],
      "metadata": {
        "id": "I3_9wgDREUna",
        "colab": {
          "base_uri": "https://localhost:8080/"
        },
        "outputId": "b35e7cf1-daba-4d43-f1c0-d122fb941d20"
      },
      "execution_count": 76,
      "outputs": [
        {
          "output_type": "stream",
          "name": "stdout",
          "text": [
            "Accuracy: 0.7436\n",
            "Precision: 0.7472854627073745\n",
            "Recall: 0.7436\n",
            "F1: 0.7422958400363371\n"
          ]
        }
      ]
    },
    {
      "cell_type": "markdown",
      "source": [
        "\n",
        "## 3.2. Exercise: Confusion matrix\n",
        "Calculate the confusion matrix and display the results in a heatmap (with decimal values).\n",
        "\n",
        "Hints:\n",
        "* you have to do the imports this time too, e.g. from [sklearn.metrics](https://scikit-learn.org/stable/modules/model_evaluation.html) and the [heatmap function](https://seaborn.pydata.org/generated/seaborn.heatmap.html) of [seaborn](https://seaborn.pydata.org/)\n",
        "* for displaying the decimal values, you have to turn annot=True and define fmt='d' in the heatmap function of seaborn"
      ],
      "metadata": {
        "id": "ECHguBFtGL7f"
      }
    },
    {
      "cell_type": "code",
      "source": [
        "from sklearn.metrics import confusion_matrix\n",
        "import seaborn as sns"
      ],
      "metadata": {
        "id": "SIi2VzMBO3yD"
      },
      "execution_count": 77,
      "outputs": []
    },
    {
      "cell_type": "code",
      "metadata": {
        "id": "cdqODx92Svw7",
        "colab": {
          "base_uri": "https://localhost:8080/",
          "height": 582
        },
        "outputId": "3ef62a4b-1ba2-4ac7-eed8-2bce545dbdf2"
      },
      "source": [
        "conf = confusion_matrix(Y_test_dense, preds)\n",
        "plt.figure(figsize=(7,6))\n",
        "sns.heatmap(conf, annot=True, fmt='d', cmap='Blues', cbar=False)\n",
        "plt.xlabel('Predicted labels')\n",
        "plt.ylabel('True labels')\n",
        "plt.title('Confusion Matrix')"
      ],
      "execution_count": 78,
      "outputs": [
        {
          "output_type": "execute_result",
          "data": {
            "text/plain": [
              "Text(0.5, 1.0, 'Confusion Matrix')"
            ]
          },
          "metadata": {},
          "execution_count": 78
        },
        {
          "output_type": "display_data",
          "data": {
            "text/plain": [
              "<Figure size 700x600 with 1 Axes>"
            ],
            "image/png": "[encoded data removed]"
          },
          "metadata": {}
        }
      ]
    },
    {
      "cell_type": "code",
      "source": [],
      "metadata": {
        "id": "sJrUSXbHTWXj"
      },
      "execution_count": null,
      "outputs": []
    }
  ]
}